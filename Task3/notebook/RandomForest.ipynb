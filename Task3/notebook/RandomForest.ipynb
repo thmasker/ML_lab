{
 "cells": [
  {
   "cell_type": "code",
   "execution_count": 48,
   "metadata": {},
   "outputs": [],
   "source": [
    "import os\n",
    "\n",
    "#TRAIN_DATA = os.path.join('..', 'data', 'processed', 'train.csv')\n",
    "TRAIN_DATA = os.path.join('..', 'data', 'processed', 'train_balanced.csv')\n",
    "TEST_DATA = os.path.join('..', 'data', 'processed', 'test.csv')\n",
    "\n",
    "FEATURES_IT1 = [\n",
    "    'GyroscopeStat_x_MEAN',\n",
    "    'GyroscopeStat_z_MEAN',\n",
    "    'GyroscopeStat_COV_z_x',\n",
    "    'GyroscopeStat_COV_z_y',\n",
    "    'MagneticField_x_MEAN',\n",
    "    'MagneticField_z_MEAN',\n",
    "    'MagneticField_COV_z_x',\n",
    "    'MagneticField_COV_z_y',\n",
    "    'Pressure_MEAN',\n",
    "    'LinearAcceleration_COV_z_x',\n",
    "    'LinearAcceleration_COV_z_y',\n",
    "    'LinearAcceleration_x_MEAN',\n",
    "    'LinearAcceleration_z_MEAN',\n",
    "]\n",
    "FEATURES_IT2 = FEATURES_IT1\n",
    "FEATURES_IT3 = [\n",
    "    'GyroscopeStat_x_MEAN',\n",
    "    'GyroscopeStat_z_MEAN',\n",
    "    'GyroscopeStat_COV_z_x',\n",
    "    'GyroscopeStat_COV_z_y',\n",
    "    #'MagneticField_x_MEAN',\n",
    "    #'MagneticField_z_MEAN',\n",
    "    #'MagneticField_COV_z_x',\n",
    "    #'MagneticField_COV_z_y',\n",
    "    #'Pressure_MEAN',\n",
    "    'LinearAcceleration_COV_z_x',\n",
    "    'LinearAcceleration_COV_z_y',\n",
    "    'LinearAcceleration_x_MEAN',\n",
    "    'LinearAcceleration_z_MEAN',\n",
    "]"
   ]
  },
  {
   "cell_type": "code",
   "execution_count": 49,
   "metadata": {},
   "outputs": [],
   "source": [
    "import os\n",
    "\n",
    "import pandas as pd\n",
    "import numpy as np\n",
    "\n",
    "from scipy.stats import randint as sp_randint\n",
    "from sklearn.model_selection import RandomizedSearchCV\n",
    "from sklearn.ensemble import RandomForestClassifier"
   ]
  },
  {
   "cell_type": "code",
   "execution_count": 50,
   "metadata": {},
   "outputs": [],
   "source": [
    "df_train = pd.read_csv(TRAIN_DATA)\n",
    "df_test = pd.read_csv(TEST_DATA)\n",
    "FEATURES = FEATURES_IT3\n",
    "\n",
    "\n",
    "x_train = df_train[FEATURES]\n",
    "y_train = df_train['attack']\n",
    "\n",
    "x_test = df_test[FEATURES]\n",
    "y_test = df_test['attack']\n"
   ]
  },
  {
   "cell_type": "code",
   "execution_count": 51,
   "metadata": {},
   "outputs": [],
   "source": [
    "clf = RandomForestClassifier(n_estimators=512, n_jobs=-1)\n"
   ]
  },
  {
   "cell_type": "code",
   "execution_count": 52,
   "metadata": {},
   "outputs": [
    {
     "name": "stderr",
     "output_type": "stream",
     "text": [
      "c:\\users\\alberto\\appdata\\local\\programs\\python\\python36\\lib\\site-packages\\sklearn\\model_selection\\_split.py:1978: FutureWarning: The default value of cv will change from 3 to 5 in version 0.22. Specify it explicitly to silence this warning.\n",
      "  warnings.warn(CV_WARNING, FutureWarning)\n",
      "[Parallel(n_jobs=1)]: Using backend SequentialBackend with 1 concurrent workers.\n"
     ]
    },
    {
     "name": "stdout",
     "output_type": "stream",
     "text": [
      "Fitting 3 folds for each of 10 candidates, totalling 30 fits\n"
     ]
    },
    {
     "name": "stderr",
     "output_type": "stream",
     "text": [
      "[Parallel(n_jobs=1)]: Done  30 out of  30 | elapsed:   13.2s finished\n"
     ]
    },
    {
     "data": {
      "text/plain": [
       "RandomizedSearchCV(cv='warn', error_score='raise-deprecating',\n",
       "                   estimator=RandomForestClassifier(bootstrap=True,\n",
       "                                                    class_weight=None,\n",
       "                                                    criterion='gini',\n",
       "                                                    max_depth=None,\n",
       "                                                    max_features='auto',\n",
       "                                                    max_leaf_nodes=None,\n",
       "                                                    min_impurity_decrease=0.0,\n",
       "                                                    min_impurity_split=None,\n",
       "                                                    min_samples_leaf=1,\n",
       "                                                    min_samples_split=2,\n",
       "                                                    min_weight_fraction_leaf=0.0,\n",
       "                                                    n_estimators=512, n_jobs=-1,\n",
       "                                                    oob_sc...\n",
       "                                        'max_depth': [10, 9, 8, 7, 6, 5, 4, 3,\n",
       "                                                      2, None],\n",
       "                                        'max_features': ['auto', 'sqrt'],\n",
       "                                        'min_samples_leaf': <scipy.stats._distn_infrastructure.rv_frozen object at 0x000001EC4FD79470>,\n",
       "                                        'min_samples_split': <scipy.stats._distn_infrastructure.rv_frozen object at 0x000001EC4FD79EF0>},\n",
       "                   pre_dispatch='2*n_jobs', random_state=None, refit=True,\n",
       "                   return_train_score=False, scoring='f1_micro', verbose=1)"
      ]
     },
     "execution_count": 52,
     "metadata": {},
     "output_type": "execute_result"
    }
   ],
   "source": [
    "param_dist = {  \"max_features\": ['auto', 'sqrt'],\n",
    "                \"max_depth\": [10,9,8,7,6,5,4,3,2,None],\n",
    "                \"min_samples_split\": sp_randint(2, 50),\n",
    "                \"min_samples_leaf\": sp_randint(1, 50),\n",
    "                \"bootstrap\": [True, False],\n",
    "                \"criterion\": [\"gini\",\"entropy\"]}\n",
    "\n",
    "random_search = RandomizedSearchCV(clf,\n",
    "            scoring = 'f1_micro',\n",
    "            param_distributions = param_dist,\n",
    "            n_iter = 10, verbose=1)\n",
    "\n",
    "random_search.fit(x_train, y_train)"
   ]
  },
  {
   "cell_type": "code",
   "execution_count": 53,
   "metadata": {},
   "outputs": [
    {
     "name": "stdout",
     "output_type": "stream",
     "text": [
      "Model with rank: 1\n",
      "Mean validation score: 0.896 (std: 0.010)\n",
      "Parameters: {'bootstrap': False, 'criterion': 'entropy', 'max_depth': 10, 'max_features': 'sqrt', 'min_samples_leaf': 4, 'min_samples_split': 10}\n",
      "\n",
      "Model with rank: 2\n",
      "Mean validation score: 0.877 (std: 0.006)\n",
      "Parameters: {'bootstrap': True, 'criterion': 'entropy', 'max_depth': 7, 'max_features': 'sqrt', 'min_samples_leaf': 1, 'min_samples_split': 25}\n",
      "\n",
      "Model with rank: 3\n",
      "Mean validation score: 0.869 (std: 0.023)\n",
      "Parameters: {'bootstrap': False, 'criterion': 'gini', 'max_depth': 6, 'max_features': 'auto', 'min_samples_leaf': 9, 'min_samples_split': 6}\n",
      "\n"
     ]
    }
   ],
   "source": [
    "import sys\n",
    "\n",
    "def report(results, n_top=3, out=sys.stdout): # Función para mostrar resultados\n",
    "    for i in range(1, n_top + 1):\n",
    "        candidates = np.flatnonzero(results['rank_test_score'] == i)\n",
    "        for candidate in candidates:\n",
    "            out.write(\"Model with rank: {0}\\n\".format(i))\n",
    "            out.write(\"Mean validation score: {0:.3f} (std: {1:.3f})\\n\".format(\n",
    "                  results['mean_test_score'][candidate],\n",
    "                  results['std_test_score'][candidate]))\n",
    "            out.write(\"Parameters: {0}\\n\".format(results['params'][candidate]))\n",
    "            out.write(\"\\n\")\n",
    "            out.flush()\n",
    "            \n",
    "report(random_search.cv_results_)\n",
    "\n",
    "with open(os.path.join('..', 'report', 'it3', 'rf_search_results.txt'), 'w') as f:\n",
    "    report(random_search.cv_results_, out=f)"
   ]
  },
  {
   "cell_type": "code",
   "execution_count": 54,
   "metadata": {},
   "outputs": [],
   "source": [
    "clf_rf = RandomForestClassifier(n_estimators=512, criterion='entropy', \n",
    "                                max_depth=10, max_features='sqrt', \n",
    "                                min_samples_leaf=4, min_samples_split=10,\n",
    "                                bootstrap=False, n_jobs=-1, \n",
    "                                class_weight=None)\n",
    "\n",
    "clf_rf.fit(x_train, y_train) # Construcción del modelo\n",
    "\n",
    "preds_rf = clf_rf.predict(x_test) # Test del modelo\n"
   ]
  },
  {
   "cell_type": "code",
   "execution_count": 55,
   "metadata": {},
   "outputs": [
    {
     "name": "stdout",
     "output_type": "stream",
     "text": [
      "Random Forest:\n",
      "               precision    recall  f1-score   support\n",
      "\n",
      "           0       1.00      0.94      0.97      4896\n",
      "           1       0.02      0.88      0.04         8\n",
      "\n",
      "    accuracy                           0.94      4904\n",
      "   macro avg       0.51      0.91      0.51      4904\n",
      "weighted avg       1.00      0.94      0.97      4904\n",
      "\n",
      "Confussion Matrixn:\n",
      "\n",
      "preds      0    1\n",
      "actual           \n",
      "0       4592  304\n",
      "1          1    7\n",
      "Feature Relevance:\n",
      "\n",
      "                      Feature  Relevancy\n",
      "0        GyroscopeStat_x_MEAN   0.132599\n",
      "1        GyroscopeStat_z_MEAN   0.094129\n",
      "2       GyroscopeStat_COV_z_x   0.102471\n",
      "3       GyroscopeStat_COV_z_y   0.200070\n",
      "4  LinearAcceleration_COV_z_x   0.191151\n",
      "5  LinearAcceleration_COV_z_y   0.149714\n",
      "6   LinearAcceleration_x_MEAN   0.072651\n",
      "7   LinearAcceleration_z_MEAN   0.057215 \n",
      "\n",
      "Maximum relevance RF: 0.20007049937995977 \n",
      "\n"
     ]
    }
   ],
   "source": [
    "from sklearn.metrics import classification_report\n",
    "\n",
    "import sys\n",
    "def report(out=sys.stdout):\n",
    "    print(\"Random Forest:\\n\",\n",
    "          classification_report(y_true=y_test, y_pred=preds_rf),\n",
    "         file=out)\n",
    "\n",
    "    # Confussion Matrix\n",
    "\n",
    "    print(\"Confussion Matrixn:\\n\", file=out)\n",
    "    matrix = pd.crosstab(y_test, preds_rf, rownames=['actual'], colnames=['preds'])\n",
    "    print(matrix, file=out)\n",
    "\n",
    "    # Variables relevantes\n",
    "\n",
    "    print(\"Feature Relevance:\\n\", file=out)\n",
    "    print(pd.DataFrame({\n",
    "            'Feature': FEATURES ,\n",
    "            'Relevancy': clf_rf.feature_importances_}),\n",
    "          '\\n',\n",
    "         file=out)\n",
    "    print(\"Maximum relevance RF:\",\n",
    "          max(clf_rf.feature_importances_),\n",
    "          '\\n',\n",
    "         file=out)\n",
    "    \n",
    "report()\n",
    "with open(os.path.join('..', 'report', 'it3', 'rf_report.txt'), 'w') as f:\n",
    "    report(f)"
   ]
  },
  {
   "cell_type": "code",
   "execution_count": 56,
   "metadata": {},
   "outputs": [],
   "source": [
    "import matplotlib.pyplot as plt\n",
    "from sklearn.metrics import confusion_matrix\n",
    "from sklearn.utils.multiclass import unique_labels\n",
    "\n",
    "def plot_confusion_matrix(y_true, y_pred, classes,\n",
    "                          normalize=False,\n",
    "                          title=None,\n",
    "                          cmap=plt.cm.Blues):\n",
    "    \"\"\"\n",
    "    This function prints and plots the confusion matrix.\n",
    "    Normalization can be applied by setting `normalize=True`.\n",
    "    \"\"\"\n",
    "    if not title:\n",
    "        if normalize:\n",
    "            title = 'Normalized confusion matrix'\n",
    "        else:\n",
    "            title = 'Confusion matrix, without normalization'\n",
    "\n",
    "    # Compute confusion matrix\n",
    "    cm = confusion_matrix(y_true, y_pred)\n",
    "    # Only use the labels that appear in the data\n",
    "    classes = classes[unique_labels(y_true, y_pred)]\n",
    "    if normalize:\n",
    "        cm = cm.astype('float') / cm.sum(axis=1)[:, np.newaxis]\n",
    "        print(\"Normalized confusion matrix\")\n",
    "    else:\n",
    "        print('Confusion matrix, without normalization')\n",
    "\n",
    "    print(cm)\n",
    "\n",
    "    fig, ax = plt.subplots()\n",
    "    im = ax.imshow(cm, interpolation='nearest', cmap=cmap)\n",
    "    ax.figure.colorbar(im, ax=ax)\n",
    "    # We want to show all ticks...\n",
    "    ax.set(xticks=np.arange(cm.shape[1]),\n",
    "           yticks=np.arange(cm.shape[0]),\n",
    "           # ... and label them with the respective list entries\n",
    "           xticklabels=classes, yticklabels=classes,\n",
    "           title=title,\n",
    "           ylabel='True label',\n",
    "           xlabel='Predicted label')\n",
    "\n",
    "    # Rotate the tick labels and set their alignment.\n",
    "    plt.setp(ax.get_xticklabels(), rotation=45, ha=\"right\",\n",
    "             rotation_mode=\"anchor\")\n",
    "\n",
    "    # Loop over data dimensions and create text annotations.\n",
    "    fmt = '.2f' if normalize else 'd'\n",
    "    thresh = cm.max() / 2.\n",
    "    for i in range(cm.shape[0]):\n",
    "        for j in range(cm.shape[1]):\n",
    "            ax.text(j, i, format(cm[i, j], fmt),\n",
    "                    ha=\"center\", va=\"center\",\n",
    "                    color=\"white\" if cm[i, j] > thresh else \"black\")\n",
    "    fig.tight_layout()\n",
    "    return ax"
   ]
  },
  {
   "cell_type": "code",
   "execution_count": 57,
   "metadata": {},
   "outputs": [
    {
     "name": "stdout",
     "output_type": "stream",
     "text": [
      "Normalized confusion matrix\n",
      "[[0.9379085 0.0620915]\n",
      " [0.125     0.875    ]]\n"
     ]
    },
    {
     "data": {
      "image/png": "[encoded data removed]",
      "text/plain": [
       "<Figure size 432x288 with 2 Axes>"
      ]
     },
     "metadata": {
      "needs_background": "light"
     },
     "output_type": "display_data"
    }
   ],
   "source": [
    "IMG_OUTPUT = os.path.join('..', 'report', 'it3', 'images')\n",
    "os.makedirs(IMG_OUTPUT, exist_ok=True)\n",
    "\n",
    "plot_confusion_matrix(y_test, preds_rf, classes = unique_labels(y_test, preds_rf), normalize=True,\n",
    "                      title='Normalized confusion matrix')\n",
    "\n",
    "plt.ylim((-0.5, 1.5))\n",
    "\n",
    "plt.savefig(os.path.join(IMG_OUTPUT, 'rf_confusion_matrix.png'))"
   ]
  }
 ],
 "metadata": {
  "kernelspec": {
   "display_name": "Python 3",
   "language": "python",
   "name": "python3"
  },
  "language_info": {
   "codemirror_mode": {
    "name": "ipython",
    "version": 3
   },
   "file_extension": ".py",
   "mimetype": "text/x-python",
   "name": "python",
   "nbconvert_exporter": "python",
   "pygments_lexer": "ipython3",
   "version": "3.6.6"
  }
 },
 "nbformat": 4,
 "nbformat_minor": 2
}
