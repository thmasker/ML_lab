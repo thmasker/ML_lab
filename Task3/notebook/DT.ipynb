{
 "cells": [
  {
   "cell_type": "markdown",
   "metadata": {},
   "source": [
    "## 1. Load dataset"
   ]
  },
  {
   "cell_type": "code",
   "execution_count": 12,
   "metadata": {},
   "outputs": [],
   "source": [
    "from pyspark import SparkConf, SparkContext\n",
    "from pyspark.sql import SQLContext\n",
    "import os\n",
    "\n",
    "sqlCtx = SQLContext(sc)\n",
    "\n",
    "df_train = sqlCtx.read.load(os.path.join('..', 'data', 'task3_train.csv'),\n",
    "                     format='com.databricks.spark.csv', header='true',\n",
    "                     inferSchema='true')\n",
    "df_test = sqlCtx.read.load(os.path.join('..', 'data', 'task3_test.csv'),\n",
    "                     format='com.databricks.spark.csv', header='true',\n",
    "                     inferSchema='true')"
   ]
  },
  {
   "cell_type": "code",
   "execution_count": 14,
   "metadata": {},
   "outputs": [
    {
     "data": {
      "text/plain": [
       "['UserID',\n",
       " 'UUID',\n",
       " 'Version',\n",
       " 'TimeStemp',\n",
       " 'GyroscopeStat_x_MEAN',\n",
       " 'GyroscopeStat_z_MEAN',\n",
       " 'GyroscopeStat_COV_z_x',\n",
       " 'GyroscopeStat_COV_z_y',\n",
       " 'MagneticField_x_MEAN',\n",
       " 'MagneticField_z_MEAN',\n",
       " 'MagneticField_COV_z_x',\n",
       " 'MagneticField_COV_z_y',\n",
       " 'Pressure_MEAN',\n",
       " 'LinearAcceleration_COV_z_x',\n",
       " 'LinearAcceleration_COV_z_y',\n",
       " 'LinearAcceleration_x_MEAN',\n",
       " 'LinearAcceleration_z_MEAN',\n",
       " 'attack',\n",
       " 'features']"
      ]
     },
     "execution_count": 14,
     "metadata": {},
     "output_type": "execute_result"
    }
   ],
   "source": [
    "FEATURES = [\n",
    "    # 'UserID',\n",
    "    # 'UUID',\n",
    "    # 'Version',\n",
    "    # 'TimeStemp',\n",
    "    'GyroscopeStat_x_MEAN',\n",
    "    'GyroscopeStat_z_MEAN',\n",
    "    'GyroscopeStat_COV_z_x',\n",
    "    'GyroscopeStat_COV_z_y',\n",
    "    'MagneticField_x_MEAN',\n",
    "    'MagneticField_z_MEAN',\n",
    "    'MagneticField_COV_z_x',\n",
    "    'MagneticField_COV_z_y',\n",
    "    'Pressure_MEAN',\n",
    "    'LinearAcceleration_COV_z_x',\n",
    "    'LinearAcceleration_COV_z_y',\n",
    "    'LinearAcceleration_x_MEAN',\n",
    "    'LinearAcceleration_z_MEAN',\n",
    "    # 'attack'\n",
    "    ]\n",
    "\n",
    "from pyspark.ml.linalg import Vectors\n",
    "from pyspark.ml.feature import VectorAssembler\n",
    "\n",
    "assembler = VectorAssembler(inputCols=FEATURES, outputCol='features')\n",
    "X_train = assembler.transform(df_train)\n",
    "X_test = assembler.transform(df_test)\n",
    "\n",
    "X_train.columns\n",
    "#X_train = df_train[FEATURES]\n",
    "#X_test = df_test[FEATURES]\n",
    "\n",
    "#y_train = df_train['attack']\n",
    "#y_test = df_test['attack']"
   ]
  },
  {
   "cell_type": "code",
   "execution_count": 15,
   "metadata": {},
   "outputs": [],
   "source": [
    "from pyspark.ml.classification import DecisionTreeClassifier\n",
    "dt = DecisionTreeClassifier(labelCol='attack', featuresCol='features',\n",
    "                           maxDepth=5, minInstancesPerNode=20,\n",
    "                           impurity='gini')"
   ]
  },
  {
   "cell_type": "code",
   "execution_count": 16,
   "metadata": {},
   "outputs": [],
   "source": [
    "from pyspark.ml import Pipeline\n",
    "\n",
    "pipeline = Pipeline(stages=[dt])\n",
    "model = pipeline.fit(X_train)"
   ]
  },
  {
   "cell_type": "code",
   "execution_count": 17,
   "metadata": {},
   "outputs": [],
   "source": [
    "predictions = model.transform(X_test)"
   ]
  },
  {
   "cell_type": "code",
   "execution_count": 19,
   "metadata": {},
   "outputs": [
    {
     "name": "stdout",
     "output_type": "stream",
     "text": [
      "+----------+------+\n",
      "|prediction|attack|\n",
      "+----------+------+\n",
      "|       0.0|     0|\n",
      "|       0.0|     0|\n",
      "|       0.0|     0|\n",
      "|       0.0|     0|\n",
      "|       0.0|     0|\n",
      "|       0.0|     0|\n",
      "|       0.0|     0|\n",
      "|       0.0|     0|\n",
      "|       0.0|     0|\n",
      "|       0.0|     0|\n",
      "|       0.0|     0|\n",
      "|       0.0|     0|\n",
      "|       0.0|     0|\n",
      "|       0.0|     0|\n",
      "|       0.0|     0|\n",
      "|       0.0|     0|\n",
      "|       0.0|     0|\n",
      "|       0.0|     0|\n",
      "|       0.0|     0|\n",
      "|       0.0|     0|\n",
      "+----------+------+\n",
      "only showing top 20 rows\n",
      "\n"
     ]
    }
   ],
   "source": [
    "predictions.select('prediction', 'attack').show(10)"
   ]
  },
  {
   "cell_type": "code",
   "execution_count": 20,
   "metadata": {},
   "outputs": [],
   "source": [
    "predictions.select('prediction', 'attack').write.save(\n",
    "    path=os.path.join('..', 'output', 'dt_predictions'),\n",
    "    format='com.databricks.spark.csv', header='true')"
   ]
  },
  {
   "cell_type": "code",
   "execution_count": 23,
   "metadata": {},
   "outputs": [
    {
     "name": "stdout",
     "output_type": "stream",
     "text": [
      "Accuracy: 0.9993914807302231\n"
     ]
    }
   ],
   "source": [
    "from pyspark.ml.evaluation import MulticlassClassificationEvaluator\n",
    "evaluator = MulticlassClassificationEvaluator(labelCol='attack',\n",
    "                                            predictionCol='prediction',\n",
    "                                            metricName='accuracy')\n",
    "accuracy = evaluator.evaluate(predictions)\n",
    "print('Accuracy:', accuracy)"
   ]
  }
 ],
 "metadata": {
  "kernelspec": {
   "display_name": "Python 3",
   "language": "python",
   "name": "python3"
  },
  "language_info": {
   "codemirror_mode": {
    "name": "ipython",
    "version": 3
   },
   "file_extension": ".py",
   "mimetype": "text/x-python",
   "name": "python",
   "nbconvert_exporter": "python",
   "pygments_lexer": "ipython3",
   "version": "3.6.6"
  }
 },
 "nbformat": 4,
 "nbformat_minor": 2
}
