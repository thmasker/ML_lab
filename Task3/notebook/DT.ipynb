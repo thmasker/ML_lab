{
 "cells": [
  {
   "cell_type": "markdown",
   "metadata": {},
   "source": [
    "## 1. Load dataset"
   ]
  },
  {
   "cell_type": "code",
   "execution_count": 47,
   "metadata": {},
   "outputs": [],
   "source": [
    "from pyspark import SparkConf, SparkContext\n",
    "from pyspark.sql import SQLContext\n",
    "import os\n",
    "\n",
    "sqlCtx = SQLContext(sc)\n",
    "\n",
    "df_train = sqlCtx.read.load(os.path.join('..', 'data', 'processed', 'train_balanced.csv'),\n",
    "                     format='com.databricks.spark.csv', header='true',\n",
    "                     inferSchema='true')\n",
    "df_test = sqlCtx.read.load(os.path.join('..', 'data', 'processed', 'test.csv'),\n",
    "                     format='com.databricks.spark.csv', header='true',\n",
    "                     inferSchema='true')"
   ]
  },
  {
   "cell_type": "code",
   "execution_count": 48,
   "metadata": {},
   "outputs": [
    {
     "data": {
      "text/plain": [
       "['UserID',\n",
       " 'UUID',\n",
       " 'Version',\n",
       " 'TimeStemp',\n",
       " 'GyroscopeStat_x_MEAN',\n",
       " 'GyroscopeStat_z_MEAN',\n",
       " 'GyroscopeStat_COV_z_x',\n",
       " 'GyroscopeStat_COV_z_y',\n",
       " 'MagneticField_x_MEAN',\n",
       " 'MagneticField_z_MEAN',\n",
       " 'MagneticField_COV_z_x',\n",
       " 'MagneticField_COV_z_y',\n",
       " 'Pressure_MEAN',\n",
       " 'LinearAcceleration_COV_z_x',\n",
       " 'LinearAcceleration_COV_z_y',\n",
       " 'LinearAcceleration_x_MEAN',\n",
       " 'LinearAcceleration_z_MEAN',\n",
       " 'attack',\n",
       " 'features']"
      ]
     },
     "execution_count": 48,
     "metadata": {},
     "output_type": "execute_result"
    }
   ],
   "source": [
    "FEATURES = [\n",
    "    # 'UserID',\n",
    "    # 'UUID',\n",
    "    # 'Version',\n",
    "    # 'TimeStemp',\n",
    "    'GyroscopeStat_x_MEAN',\n",
    "    'GyroscopeStat_z_MEAN',\n",
    "    'GyroscopeStat_COV_z_x',\n",
    "    'GyroscopeStat_COV_z_y',\n",
    "    'MagneticField_x_MEAN',\n",
    "    'MagneticField_z_MEAN',\n",
    "    'MagneticField_COV_z_x',\n",
    "    'MagneticField_COV_z_y',\n",
    "    'Pressure_MEAN',\n",
    "    'LinearAcceleration_COV_z_x',\n",
    "    'LinearAcceleration_COV_z_y',\n",
    "    'LinearAcceleration_x_MEAN',\n",
    "    'LinearAcceleration_z_MEAN',\n",
    "    # 'attack'\n",
    "    ]\n",
    "\n",
    "from pyspark.ml.linalg import Vectors\n",
    "from pyspark.ml.feature import VectorAssembler\n",
    "\n",
    "assembler = VectorAssembler(inputCols=FEATURES, outputCol='features')\n",
    "X_train = assembler.transform(df_train)\n",
    "X_test = assembler.transform(df_test)\n",
    "\n",
    "X_train.columns\n",
    "#X_train = df_train[FEATURES]\n",
    "#X_test = df_test[FEATURES]\n",
    "\n",
    "#y_train = df_train['attack']\n",
    "#y_test = df_test['attack']"
   ]
  },
  {
   "cell_type": "code",
   "execution_count": 49,
   "metadata": {},
   "outputs": [],
   "source": [
    "from pyspark.ml.classification import DecisionTreeClassifier\n",
    "dt = DecisionTreeClassifier(labelCol='attack', featuresCol='features',\n",
    "                           maxDepth=5, minInstancesPerNode=20,\n",
    "                           impurity='gini')"
   ]
  },
  {
   "cell_type": "code",
   "execution_count": 50,
   "metadata": {},
   "outputs": [],
   "source": [
    "from pyspark.ml import Pipeline\n",
    "\n",
    "pipeline = Pipeline(stages=[dt])\n",
    "model = pipeline.fit(X_train)"
   ]
  },
  {
   "cell_type": "code",
   "execution_count": 51,
   "metadata": {},
   "outputs": [],
   "source": [
    "predictions = model.transform(X_test)"
   ]
  },
  {
   "cell_type": "code",
   "execution_count": 52,
   "metadata": {},
   "outputs": [
    {
     "name": "stdout",
     "output_type": "stream",
     "text": [
      "+----------+------+\n",
      "|prediction|attack|\n",
      "+----------+------+\n",
      "|       1.0|     1|\n",
      "|       1.0|     1|\n",
      "|       1.0|     1|\n",
      "|       0.0|     1|\n",
      "|       0.0|     1|\n",
      "|       1.0|     1|\n",
      "|       1.0|     1|\n",
      "|       1.0|     1|\n",
      "|       0.0|     0|\n",
      "|       0.0|     0|\n",
      "+----------+------+\n",
      "only showing top 10 rows\n",
      "\n"
     ]
    }
   ],
   "source": [
    "predictions.select('prediction', 'attack').show(10)"
   ]
  },
  {
   "cell_type": "code",
   "execution_count": 53,
   "metadata": {},
   "outputs": [],
   "source": [
    "predictions.select('prediction', 'attack').write.save(\n",
    "    path=os.path.join('..', 'output', 'dt_predictions'),\n",
    "    format='com.databricks.spark.csv', header='true')"
   ]
  },
  {
   "cell_type": "code",
   "execution_count": 54,
   "metadata": {},
   "outputs": [
    {
     "name": "stdout",
     "output_type": "stream",
     "text": [
      "Accuracy: 0.9006933115823818\n"
     ]
    }
   ],
   "source": [
    "from pyspark.ml.evaluation import MulticlassClassificationEvaluator\n",
    "evaluator = MulticlassClassificationEvaluator(labelCol='attack',\n",
    "                                            predictionCol='prediction',\n",
    "                                            metricName='accuracy')\n",
    "accuracy = evaluator.evaluate(predictions)\n",
    "print('Accuracy:', accuracy)"
   ]
  },
  {
   "cell_type": "code",
   "execution_count": 55,
   "metadata": {},
   "outputs": [
    {
     "data": {
      "text/plain": [
       "[Row(prediction=1.0, attack=1.0), Row(prediction=1.0, attack=1.0)]"
      ]
     },
     "execution_count": 55,
     "metadata": {},
     "output_type": "execute_result"
    }
   ],
   "source": [
    "predictions = predictions.select('prediction', predictions.attack.cast('double').alias('attack'))\n",
    "predictions.rdd.take(2)"
   ]
  },
  {
   "cell_type": "code",
   "execution_count": 56,
   "metadata": {},
   "outputs": [
    {
     "data": {
      "text/plain": [
       "array([[4.411e+03, 2.000e+00],\n",
       "       [4.850e+02, 6.000e+00]])"
      ]
     },
     "execution_count": 56,
     "metadata": {},
     "output_type": "execute_result"
    }
   ],
   "source": [
    "from pyspark.mllib.evaluation import MulticlassMetrics\n",
    "\n",
    "metrics = MulticlassMetrics(predictions.rdd.map(tuple))\n",
    "metrics.confusionMatrix().toArray().transpose()"
   ]
  }
 ],
 "metadata": {
  "kernelspec": {
   "display_name": "Python 3",
   "language": "python",
   "name": "python3"
  },
  "language_info": {
   "codemirror_mode": {
    "name": "ipython",
    "version": 3
   },
   "file_extension": ".py",
   "mimetype": "text/x-python",
   "name": "python",
   "nbconvert_exporter": "python",
   "pygments_lexer": "ipython3",
   "version": "3.6.6"
  }
 },
 "nbformat": 4,
 "nbformat_minor": 2
}
