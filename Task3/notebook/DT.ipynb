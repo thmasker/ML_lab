{
 "cells": [
  {
   "cell_type": "code",
   "execution_count": 112,
   "metadata": {},
   "outputs": [],
   "source": [
    "import os\n",
    "\n",
    "#TRAIN_DATA = os.path.join('..', 'data', 'processed', 'train.csv')\n",
    "TRAIN_DATA = os.path.join('..', 'data', 'processed', 'train_balanced.csv')\n",
    "TEST_DATA = os.path.join('..', 'data', 'processed', 'test.csv')\n",
    "\n",
    "FEATURES_IT1 = [\n",
    "    'GyroscopeStat_x_MEAN',\n",
    "    'GyroscopeStat_z_MEAN',\n",
    "    'GyroscopeStat_COV_z_x',\n",
    "    'GyroscopeStat_COV_z_y',\n",
    "    'MagneticField_x_MEAN',\n",
    "    'MagneticField_z_MEAN',\n",
    "    'MagneticField_COV_z_x',\n",
    "    'MagneticField_COV_z_y',\n",
    "    'Pressure_MEAN',\n",
    "    'LinearAcceleration_COV_z_x',\n",
    "    'LinearAcceleration_COV_z_y',\n",
    "    'LinearAcceleration_x_MEAN',\n",
    "    'LinearAcceleration_z_MEAN',\n",
    "]\n",
    "FEATURES_IT2 = FEATURES_IT1\n",
    "FEATURES_IT3 = [\n",
    "    'GyroscopeStat_x_MEAN',\n",
    "    'GyroscopeStat_z_MEAN',\n",
    "    'GyroscopeStat_COV_z_x',\n",
    "    'GyroscopeStat_COV_z_y',\n",
    "    #'MagneticField_x_MEAN',\n",
    "    #'MagneticField_z_MEAN',\n",
    "    #'MagneticField_COV_z_x',\n",
    "    #'MagneticField_COV_z_y',\n",
    "    #'Pressure_MEAN',\n",
    "    'LinearAcceleration_COV_z_x',\n",
    "    'LinearAcceleration_COV_z_y',\n",
    "    'LinearAcceleration_x_MEAN',\n",
    "    'LinearAcceleration_z_MEAN',\n",
    "]"
   ]
  },
  {
   "cell_type": "markdown",
   "metadata": {},
   "source": [
    "## 1. Load dataset"
   ]
  },
  {
   "cell_type": "code",
   "execution_count": 113,
   "metadata": {},
   "outputs": [],
   "source": [
    "from pyspark import SparkConf, SparkContext\n",
    "from pyspark.sql import SQLContext\n",
    "\n",
    "sqlCtx = SQLContext(sc)\n",
    "\n",
    "df_train = sqlCtx.read.load(TRAIN_DATA,\n",
    "                     format='com.databricks.spark.csv', header='true',\n",
    "                     inferSchema='true')\n",
    "df_test = sqlCtx.read.load(TEST_DATA,\n",
    "                     format='com.databricks.spark.csv', header='true',\n",
    "                     inferSchema='true')"
   ]
  },
  {
   "cell_type": "code",
   "execution_count": 114,
   "metadata": {},
   "outputs": [
    {
     "data": {
      "text/plain": [
       "['UserID',\n",
       " 'UUID',\n",
       " 'Version',\n",
       " 'TimeStemp',\n",
       " 'GyroscopeStat_x_MEAN',\n",
       " 'GyroscopeStat_z_MEAN',\n",
       " 'GyroscopeStat_COV_z_x',\n",
       " 'GyroscopeStat_COV_z_y',\n",
       " 'MagneticField_x_MEAN',\n",
       " 'MagneticField_z_MEAN',\n",
       " 'MagneticField_COV_z_x',\n",
       " 'MagneticField_COV_z_y',\n",
       " 'Pressure_MEAN',\n",
       " 'LinearAcceleration_COV_z_x',\n",
       " 'LinearAcceleration_COV_z_y',\n",
       " 'LinearAcceleration_x_MEAN',\n",
       " 'LinearAcceleration_z_MEAN',\n",
       " 'attack',\n",
       " 'features']"
      ]
     },
     "execution_count": 114,
     "metadata": {},
     "output_type": "execute_result"
    }
   ],
   "source": [
    "FEATURES = FEATURES_IT3\n",
    "\n",
    "from pyspark.ml.linalg import Vectors\n",
    "from pyspark.ml.feature import VectorAssembler\n",
    "\n",
    "assembler = VectorAssembler(inputCols=FEATURES, outputCol='features')\n",
    "X_train = assembler.transform(df_train)\n",
    "X_test = assembler.transform(df_test)\n",
    "\n",
    "X_train.columns"
   ]
  },
  {
   "cell_type": "code",
   "execution_count": 115,
   "metadata": {},
   "outputs": [],
   "source": [
    "from pyspark.ml.classification import DecisionTreeClassifier\n",
    "dt = DecisionTreeClassifier(labelCol='attack', featuresCol='features',\n",
    "                           maxDepth=2, minInstancesPerNode=20,\n",
    "                           impurity='gini')"
   ]
  },
  {
   "cell_type": "code",
   "execution_count": 116,
   "metadata": {},
   "outputs": [],
   "source": [
    "from pyspark.ml import Pipeline\n",
    "\n",
    "pipeline = Pipeline(stages=[dt])\n",
    "model = pipeline.fit(X_train)"
   ]
  },
  {
   "cell_type": "code",
   "execution_count": 117,
   "metadata": {},
   "outputs": [],
   "source": [
    "predictions = model.transform(X_test)"
   ]
  },
  {
   "cell_type": "code",
   "execution_count": 118,
   "metadata": {},
   "outputs": [
    {
     "name": "stdout",
     "output_type": "stream",
     "text": [
      "+----------+------+\n",
      "|prediction|attack|\n",
      "+----------+------+\n",
      "|       1.0|     1|\n",
      "|       1.0|     1|\n",
      "|       1.0|     1|\n",
      "|       0.0|     1|\n",
      "|       0.0|     1|\n",
      "|       1.0|     1|\n",
      "|       1.0|     1|\n",
      "|       1.0|     1|\n",
      "|       0.0|     0|\n",
      "|       0.0|     0|\n",
      "+----------+------+\n",
      "only showing top 10 rows\n",
      "\n"
     ]
    }
   ],
   "source": [
    "predictions.select('prediction', 'attack').show(10)"
   ]
  },
  {
   "cell_type": "code",
   "execution_count": 120,
   "metadata": {},
   "outputs": [],
   "source": [
    "OUTPUT = os.path.join('..', 'report', 'it3', 'dt_predictions')\n",
    "\n",
    "predictions.select('prediction', 'attack').write.save(\n",
    "    path=OUTPUT,\n",
    "    format='com.databricks.spark.csv', header='true')"
   ]
  },
  {
   "cell_type": "code",
   "execution_count": 121,
   "metadata": {},
   "outputs": [
    {
     "name": "stdout",
     "output_type": "stream",
     "text": [
      "Accuracy: 0.9190456769983687\n"
     ]
    }
   ],
   "source": [
    "from pyspark.ml.evaluation import MulticlassClassificationEvaluator\n",
    "evaluator = MulticlassClassificationEvaluator(labelCol='attack',\n",
    "                                            predictionCol='prediction',\n",
    "                                            metricName='accuracy')\n",
    "accuracy = evaluator.evaluate(predictions)\n",
    "print('Accuracy:', accuracy)"
   ]
  },
  {
   "cell_type": "code",
   "execution_count": 122,
   "metadata": {},
   "outputs": [
    {
     "data": {
      "text/plain": [
       "[Row(prediction=1.0, attack=1.0), Row(prediction=1.0, attack=1.0)]"
      ]
     },
     "execution_count": 122,
     "metadata": {},
     "output_type": "execute_result"
    }
   ],
   "source": [
    "predictions = predictions.select('prediction', predictions.attack.cast('double').alias('attack'))\n",
    "predictions.rdd.take(2)"
   ]
  },
  {
   "cell_type": "code",
   "execution_count": 123,
   "metadata": {},
   "outputs": [
    {
     "data": {
      "text/plain": [
       "array([[4.501e+03, 2.000e+00],\n",
       "       [3.950e+02, 6.000e+00]])"
      ]
     },
     "execution_count": 123,
     "metadata": {},
     "output_type": "execute_result"
    }
   ],
   "source": [
    "from pyspark.mllib.evaluation import MulticlassMetrics\n",
    "\n",
    "metrics = MulticlassMetrics(predictions.rdd.map(tuple))\n",
    "metrics.confusionMatrix().toArray().transpose()"
   ]
  },
  {
   "cell_type": "code",
   "execution_count": 124,
   "metadata": {},
   "outputs": [],
   "source": [
    "import matplotlib.pyplot as plt\n",
    "import numpy as np\n",
    "\n",
    "from sklearn.metrics import confusion_matrix\n",
    "from sklearn.utils.multiclass import unique_labels\n",
    "\n",
    "def plot_confusion_matrix(y_true, y_pred, classes,\n",
    "                          normalize=False,\n",
    "                          title=None,\n",
    "                          cmap=plt.cm.Blues):\n",
    "    \"\"\"\n",
    "    This function prints and plots the confusion matrix.\n",
    "    Normalization can be applied by setting `normalize=True`.\n",
    "    \"\"\"\n",
    "    if not title:\n",
    "        if normalize:\n",
    "            title = 'Normalized confusion matrix'\n",
    "        else:\n",
    "            title = 'Confusion matrix, without normalization'\n",
    "\n",
    "    # Compute confusion matrix\n",
    "    cm = confusion_matrix(y_true, y_pred)\n",
    "    # Only use the labels that appear in the data\n",
    "    classes = classes[unique_labels(y_true, y_pred)]\n",
    "    if normalize:\n",
    "        cm = cm.astype('float') / cm.sum(axis=1)[:, np.newaxis]\n",
    "        print(\"Normalized confusion matrix\")\n",
    "    else:\n",
    "        print('Confusion matrix, without normalization')\n",
    "\n",
    "    print(cm)\n",
    "\n",
    "    fig, ax = plt.subplots()\n",
    "    im = ax.imshow(cm, interpolation='nearest', cmap=cmap)\n",
    "    ax.figure.colorbar(im, ax=ax)\n",
    "    # We want to show all ticks...\n",
    "    ax.set(xticks=np.arange(cm.shape[1]),\n",
    "           yticks=np.arange(cm.shape[0]),\n",
    "           # ... and label them with the respective list entries\n",
    "           xticklabels=classes, yticklabels=classes,\n",
    "           title=title,\n",
    "           ylabel='True label',\n",
    "           xlabel='Predicted label')\n",
    "\n",
    "    # Rotate the tick labels and set their alignment.\n",
    "    plt.setp(ax.get_xticklabels(), rotation=45, ha=\"right\",\n",
    "             rotation_mode=\"anchor\")\n",
    "\n",
    "    # Loop over data dimensions and create text annotations.\n",
    "    fmt = '.2f' if normalize else 'd'\n",
    "    thresh = cm.max() / 2.\n",
    "    for i in range(cm.shape[0]):\n",
    "        for j in range(cm.shape[1]):\n",
    "            ax.text(j, i, format(cm[i, j], fmt),\n",
    "                    ha=\"center\", va=\"center\",\n",
    "                    color=\"white\" if cm[i, j] > thresh else \"black\")\n",
    "    fig.tight_layout()\n",
    "    return ax"
   ]
  },
  {
   "cell_type": "code",
   "execution_count": 126,
   "metadata": {},
   "outputs": [
    {
     "name": "stdout",
     "output_type": "stream",
     "text": [
      "Normalized confusion matrix\n",
      "[[0.9193219 0.0806781]\n",
      " [0.25      0.75     ]]\n"
     ]
    },
    {
     "data": {
      "image/png": "[encoded data removed]",
      "text/plain": [
       "<Figure size 432x288 with 2 Axes>"
      ]
     },
     "metadata": {
      "needs_background": "light"
     },
     "output_type": "display_data"
    }
   ],
   "source": [
    "IMG_OUTPUT = os.path.join('..', 'report', 'it3', 'images')\n",
    "os.makedirs(IMG_OUTPUT, exist_ok=True)\n",
    "\n",
    "y_true = [int(row.attack) for row in predictions.select('attack').collect()]\n",
    "y_pred = [int(row.prediction) for row in predictions.select('prediction').collect()]\n",
    "\n",
    "plot_confusion_matrix(y_true, y_pred,\n",
    "                      classes = unique_labels(y_true, y_pred),\n",
    "                      normalize=True,\n",
    "                      title='Normalized confusion matrix')\n",
    "\n",
    "plt.ylim((-0.5, 1.5))\n",
    "\n",
    "plt.savefig(os.path.join(IMG_OUTPUT, 'dt_confusion_matrix.png'))"
   ]
  }
 ],
 "metadata": {
  "kernelspec": {
   "display_name": "Python 3",
   "language": "python",
   "name": "python3"
  },
  "language_info": {
   "codemirror_mode": {
    "name": "ipython",
    "version": 3
   },
   "file_extension": ".py",
   "mimetype": "text/x-python",
   "name": "python",
   "nbconvert_exporter": "python",
   "pygments_lexer": "ipython3",
   "version": "3.6.6"
  }
 },
 "nbformat": 4,
 "nbformat_minor": 2
}
